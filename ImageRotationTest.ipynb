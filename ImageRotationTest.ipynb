{
  "nbformat": 4,
  "nbformat_minor": 0,
  "metadata": {
    "colab": {
      "name": "ImageRotationTest",
      "provenance": [],
      "collapsed_sections": [],
      "authorship_tag": "ABX9TyMXw6JygND6wUYN1UtcbxoQ",
      "include_colab_link": true
    },
    "kernelspec": {
      "name": "python3",
      "display_name": "Python 3"
    }
  },
  "cells": [
    {
      "cell_type": "markdown",
      "metadata": {
        "id": "view-in-github",
        "colab_type": "text"
      },
      "source": [
        "<a href=\"https://colab.research.google.com/github/hbasafa/ImageRotation/blob/master/ImageRotationTest.ipynb\" target=\"_parent\"><img src=\"https://colab.research.google.com/assets/colab-badge.svg\" alt=\"Open In Colab\"/></a>"
      ]
    },
    {
      "cell_type": "code",
      "metadata": {
        "id": "cRCoFMQqaMee",
        "colab_type": "code",
        "outputId": "ffd10a39-9ed1-4490-e476-a072d9a0f0b1",
        "colab": {
          "base_uri": "https://localhost:8080/",
          "height": 126
        }
      },
      "source": [
        "# model_link = \"https://drive.google.com/open?id=1SGN5_aZrRkK5C10l6XPf_MO8zshtHYzG\"\n",
        "\n",
        "from google.colab import drive\n",
        "drive.mount('/content/drive')\n",
        "\n",
        "model_link1 = '/content/drive/My Drive/ImageRotation/default_models/rotnet_mnist.hdf5'\n",
        "model_link2 = '/content/drive/My Drive/ImageRotation/default_models/rotnet_street_view_resnet50.hdf5'\n",
        "model_link3 = '/content/drive/My Drive/ImageRotation/default_models/rotnet_street_view_resnet50_keras2.hdf5'"
      ],
      "execution_count": 0,
      "outputs": [
        {
          "output_type": "stream",
          "text": [
            "Go to this URL in a browser: https://accounts.google.com/o/oauth2/auth?client_id=947318989803-6bn6qk8qdgf4n4g3pfee6491hc0brc4i.apps.googleusercontent.com&redirect_uri=urn%3aietf%3awg%3aoauth%3a2.0%3aoob&response_type=code&scope=email%20https%3a%2f%2fwww.googleapis.com%2fauth%2fdocs.test%20https%3a%2f%2fwww.googleapis.com%2fauth%2fdrive%20https%3a%2f%2fwww.googleapis.com%2fauth%2fdrive.photos.readonly%20https%3a%2f%2fwww.googleapis.com%2fauth%2fpeopleapi.readonly\n",
            "\n",
            "Enter your authorization code:\n",
            "··········\n",
            "Mounted at /content/drive\n"
          ],
          "name": "stdout"
        }
      ]
    },
    {
      "cell_type": "code",
      "metadata": {
        "id": "H5buOYQ5bUQR",
        "colab_type": "code",
        "outputId": "b61ba4c8-e9fe-4cfb-91c9-f679a0814074",
        "colab": {
          "base_uri": "https://localhost:8080/",
          "height": 106
        }
      },
      "source": [
        "! git clone https://github.com/d4nst/RotNet.git\n"
      ],
      "execution_count": 0,
      "outputs": [
        {
          "output_type": "stream",
          "text": [
            "Cloning into 'RotNet'...\n",
            "remote: Enumerating objects: 154, done.\u001b[K\n",
            "remote: Total 154 (delta 0), reused 0 (delta 0), pack-reused 154\u001b[K\n",
            "Receiving objects: 100% (154/154), 10.35 MiB | 33.11 MiB/s, done.\n",
            "Resolving deltas: 100% (80/80), done.\n"
          ],
          "name": "stdout"
        }
      ]
    },
    {
      "cell_type": "code",
      "metadata": {
        "id": "toOzKX6QhR85",
        "colab_type": "code",
        "outputId": "34a87af9-c839-418c-e892-29a9be6935cc",
        "colab": {
          "base_uri": "https://localhost:8080/",
          "height": 1000
        }
      },
      "source": [
        "pip install keras==1.2 tensorflow==1.4"
      ],
      "execution_count": 0,
      "outputs": [
        {
          "output_type": "stream",
          "text": [
            "Collecting keras==1.2\n",
            "\u001b[?25l  Downloading https://files.pythonhosted.org/packages/ef/39/06886076de3d1eaae6df9aace977284a3c1267f8576c3d07ca0d37437b38/Keras-1.2.0.tar.gz (167kB)\n",
            "\u001b[K     |████████████████████████████████| 174kB 2.8MB/s \n",
            "\u001b[?25hCollecting tensorflow==1.4\n",
            "\u001b[?25l  Downloading https://files.pythonhosted.org/packages/86/9f/be0165c6eefd841e6928e54d3d083fa174f92d640fdc52f73a33dc9c54d1/tensorflow-1.4.0-cp36-cp36m-manylinux1_x86_64.whl (41.2MB)\n",
            "\u001b[K     |████████████████████████████████| 41.2MB 116kB/s \n",
            "\u001b[?25hRequirement already satisfied: theano in /usr/local/lib/python3.6/dist-packages (from keras==1.2) (1.0.4)\n",
            "Requirement already satisfied: pyyaml in /usr/local/lib/python3.6/dist-packages (from keras==1.2) (3.13)\n",
            "Requirement already satisfied: six in /usr/local/lib/python3.6/dist-packages (from keras==1.2) (1.12.0)\n",
            "Requirement already satisfied: numpy>=1.12.1 in /usr/local/lib/python3.6/dist-packages (from tensorflow==1.4) (1.18.4)\n",
            "Collecting enum34>=1.1.6\n",
            "  Downloading https://files.pythonhosted.org/packages/63/f6/ccb1c83687756aeabbf3ca0f213508fcfb03883ff200d201b3a4c60cedcc/enum34-1.1.10-py3-none-any.whl\n",
            "Requirement already satisfied: wheel>=0.26 in /usr/local/lib/python3.6/dist-packages (from tensorflow==1.4) (0.34.2)\n",
            "Requirement already satisfied: protobuf>=3.3.0 in /usr/local/lib/python3.6/dist-packages (from tensorflow==1.4) (3.10.0)\n",
            "Collecting tensorflow-tensorboard<0.5.0,>=0.4.0rc1\n",
            "\u001b[?25l  Downloading https://files.pythonhosted.org/packages/e9/9f/5845c18f9df5e7ea638ecf3a272238f0e7671e454faa396b5188c6e6fc0a/tensorflow_tensorboard-0.4.0-py3-none-any.whl (1.7MB)\n",
            "\u001b[K     |████████████████████████████████| 1.7MB 50.2MB/s \n",
            "\u001b[?25hRequirement already satisfied: scipy>=0.14 in /usr/local/lib/python3.6/dist-packages (from theano->keras==1.2) (1.4.1)\n",
            "Requirement already satisfied: setuptools in /usr/local/lib/python3.6/dist-packages (from protobuf>=3.3.0->tensorflow==1.4) (46.4.0)\n",
            "Requirement already satisfied: markdown>=2.6.8 in /usr/local/lib/python3.6/dist-packages (from tensorflow-tensorboard<0.5.0,>=0.4.0rc1->tensorflow==1.4) (3.2.2)\n",
            "Collecting html5lib==0.9999999\n",
            "\u001b[?25l  Downloading https://files.pythonhosted.org/packages/ae/ae/bcb60402c60932b32dfaf19bb53870b29eda2cd17551ba5639219fb5ebf9/html5lib-0.9999999.tar.gz (889kB)\n",
            "\u001b[K     |████████████████████████████████| 890kB 30.4MB/s \n",
            "\u001b[?25hCollecting bleach==1.5.0\n",
            "  Downloading https://files.pythonhosted.org/packages/33/70/86c5fec937ea4964184d4d6c4f0b9551564f821e1c3575907639036d9b90/bleach-1.5.0-py2.py3-none-any.whl\n",
            "Requirement already satisfied: werkzeug>=0.11.10 in /usr/local/lib/python3.6/dist-packages (from tensorflow-tensorboard<0.5.0,>=0.4.0rc1->tensorflow==1.4) (1.0.1)\n",
            "Requirement already satisfied: importlib-metadata; python_version < \"3.8\" in /usr/local/lib/python3.6/dist-packages (from markdown>=2.6.8->tensorflow-tensorboard<0.5.0,>=0.4.0rc1->tensorflow==1.4) (1.6.0)\n",
            "Requirement already satisfied: zipp>=0.5 in /usr/local/lib/python3.6/dist-packages (from importlib-metadata; python_version < \"3.8\"->markdown>=2.6.8->tensorflow-tensorboard<0.5.0,>=0.4.0rc1->tensorflow==1.4) (3.1.0)\n",
            "Building wheels for collected packages: keras, html5lib\n",
            "  Building wheel for keras (setup.py) ... \u001b[?25l\u001b[?25hdone\n",
            "  Created wheel for keras: filename=Keras-1.2.0-cp36-none-any.whl size=200432 sha256=af85d27e5be0c421cbab2f68055f74d5e4b6098cd59670fde32f76628499dc95\n",
            "  Stored in directory: /root/.cache/pip/wheels/5f/93/d8/053b368a1eccbbc95f62e719932112466958e63eec45a4caae\n",
            "  Building wheel for html5lib (setup.py) ... \u001b[?25l\u001b[?25hdone\n",
            "  Created wheel for html5lib: filename=html5lib-0.9999999-cp36-none-any.whl size=107220 sha256=02518537fc138c61db26bef218683c51902839fb55b1b011faf3c8d9308b3ea6\n",
            "  Stored in directory: /root/.cache/pip/wheels/50/ae/f9/d2b189788efcf61d1ee0e36045476735c838898eef1cad6e29\n",
            "Successfully built keras html5lib\n",
            "\u001b[31mERROR: textgenrnn 1.4.1 has requirement keras>=2.1.5, but you'll have keras 1.2.0 which is incompatible.\u001b[0m\n",
            "\u001b[31mERROR: kapre 0.1.3.1 has requirement keras>=2.0.0, but you'll have keras 1.2.0 which is incompatible.\u001b[0m\n",
            "\u001b[31mERROR: fancyimpute 0.4.3 has requirement keras>=2.0.0, but you'll have keras 1.2.0 which is incompatible.\u001b[0m\n",
            "Installing collected packages: keras, enum34, html5lib, bleach, tensorflow-tensorboard, tensorflow\n",
            "  Found existing installation: Keras 2.3.1\n",
            "    Uninstalling Keras-2.3.1:\n",
            "      Successfully uninstalled Keras-2.3.1\n",
            "  Found existing installation: html5lib 1.0.1\n",
            "    Uninstalling html5lib-1.0.1:\n",
            "      Successfully uninstalled html5lib-1.0.1\n",
            "  Found existing installation: bleach 3.1.5\n",
            "    Uninstalling bleach-3.1.5:\n",
            "      Successfully uninstalled bleach-3.1.5\n",
            "  Found existing installation: tensorflow 2.2.0\n",
            "    Uninstalling tensorflow-2.2.0:\n",
            "      Successfully uninstalled tensorflow-2.2.0\n",
            "Successfully installed bleach-1.5.0 enum34-1.1.10 html5lib-0.9999999 keras-1.2.0 tensorflow-1.4.0 tensorflow-tensorboard-0.4.0\n"
          ],
          "name": "stdout"
        },
        {
          "output_type": "display_data",
          "data": {
            "application/vnd.colab-display-data+json": {
              "pip_warning": {
                "packages": [
                  "enum"
                ]
              }
            }
          },
          "metadata": {
            "tags": []
          }
        }
      ]
    },
    {
      "cell_type": "code",
      "metadata": {
        "id": "_G4mFVKmewOO",
        "colab_type": "code",
        "outputId": "41be5ced-8f7c-4fa0-9404-62e0059ebbe5",
        "colab": {
          "base_uri": "https://localhost:8080/",
          "height": 943
        }
      },
      "source": [
        "! python /content/RotNet/correct_rotation.py '/content/drive/My Drive/ImageRotation/default_models/rotnet_street_view_resnet50.hdf5' '/content/RotNet/data/test_examples'"
      ],
      "execution_count": 0,
      "outputs": [
        {
          "output_type": "stream",
          "text": [
            "Using TensorFlow backend.\n",
            "2020-05-31 11:31:53.041508: I tensorflow/stream_executor/platform/default/dso_loader.cc:44] Successfully opened dynamic library libcudart.so.10.1\n",
            "Loading model...\n",
            "/usr/local/lib/python3.6/dist-packages/keras/engine/base_layer.py:1179: UserWarning: Update your `InputLayer` call to the Keras 2 API: `InputLayer(batch_input_shape=[None, 224..., sparse=False, name=\"input_1\", dtype=\"float32\")`\n",
            "  return cls(**config)\n",
            "/usr/local/lib/python3.6/dist-packages/keras/engine/base_layer.py:1179: UserWarning: Update your `Conv2D` call to the Keras 2 API: `Conv2D(name=\"conv1\", activity_regularizer=None, trainable=True, activation=\"linear\", kernel_size=(7, 7), filters=64, strides=[2, 2], padding=\"valid\", data_format=\"channels_last\", kernel_initializer=\"glorot_uniform\", kernel_regularizer=None, bias_regularizer=None, kernel_constraint=None, bias_constraint=None, use_bias=True)`\n",
            "  return cls(**config)\n",
            "/usr/local/lib/python3.6/dist-packages/keras/engine/base_layer.py:1179: UserWarning: Update your `BatchNormalization` call to the Keras 2 API: `BatchNormalization(gamma_regularizer=None, name=\"bn_conv1\", epsilon=0.001, trainable=True, beta_regularizer=None, momentum=0.99, axis=3)`\n",
            "  return cls(**config)\n",
            "/usr/local/lib/python3.6/dist-packages/keras/engine/base_layer.py:1179: UserWarning: Update your `MaxPooling2D` call to the Keras 2 API: `MaxPooling2D(name=\"maxpooling2d_1\", trainable=True, pool_size=[3, 3], strides=[2, 2], padding=\"valid\", data_format=\"channels_last\")`\n",
            "  return cls(**config)\n",
            "/usr/local/lib/python3.6/dist-packages/keras/engine/base_layer.py:1179: UserWarning: Update your `Conv2D` call to the Keras 2 API: `Conv2D(name=\"res2a_branch2a\", activity_regularizer=None, trainable=True, activation=\"linear\", kernel_size=(1, 1), filters=64, strides=[1, 1], padding=\"valid\", data_format=\"channels_last\", kernel_initializer=\"glorot_uniform\", kernel_regularizer=None, bias_regularizer=None, kernel_constraint=None, bias_constraint=None, use_bias=True)`\n",
            "  return cls(**config)\n",
            "/usr/local/lib/python3.6/dist-packages/keras/engine/base_layer.py:1179: UserWarning: Update your `BatchNormalization` call to the Keras 2 API: `BatchNormalization(gamma_regularizer=None, name=\"bn2a_branch2a\", epsilon=0.001, trainable=True, beta_regularizer=None, momentum=0.99, axis=3)`\n",
            "  return cls(**config)\n",
            "/usr/local/lib/python3.6/dist-packages/keras/engine/base_layer.py:1179: UserWarning: Update your `Conv2D` call to the Keras 2 API: `Conv2D(name=\"res2a_branch2b\", activity_regularizer=None, trainable=True, activation=\"linear\", kernel_size=(3, 3), filters=64, strides=[1, 1], padding=\"same\", data_format=\"channels_last\", kernel_initializer=\"glorot_uniform\", kernel_regularizer=None, bias_regularizer=None, kernel_constraint=None, bias_constraint=None, use_bias=True)`\n",
            "  return cls(**config)\n",
            "/usr/local/lib/python3.6/dist-packages/keras/engine/base_layer.py:1179: UserWarning: Update your `BatchNormalization` call to the Keras 2 API: `BatchNormalization(gamma_regularizer=None, name=\"bn2a_branch2b\", epsilon=0.001, trainable=True, beta_regularizer=None, momentum=0.99, axis=3)`\n",
            "  return cls(**config)\n",
            "/usr/local/lib/python3.6/dist-packages/keras/engine/base_layer.py:1179: UserWarning: Update your `Conv2D` call to the Keras 2 API: `Conv2D(name=\"res2a_branch2c\", activity_regularizer=None, trainable=True, activation=\"linear\", kernel_size=(1, 1), filters=256, strides=[1, 1], padding=\"valid\", data_format=\"channels_last\", kernel_initializer=\"glorot_uniform\", kernel_regularizer=None, bias_regularizer=None, kernel_constraint=None, bias_constraint=None, use_bias=True)`\n",
            "  return cls(**config)\n",
            "/usr/local/lib/python3.6/dist-packages/keras/engine/base_layer.py:1179: UserWarning: Update your `Conv2D` call to the Keras 2 API: `Conv2D(name=\"res2a_branch1\", activity_regularizer=None, trainable=True, activation=\"linear\", kernel_size=(1, 1), filters=256, strides=[1, 1], padding=\"valid\", data_format=\"channels_last\", kernel_initializer=\"glorot_uniform\", kernel_regularizer=None, bias_regularizer=None, kernel_constraint=None, bias_constraint=None, use_bias=True)`\n",
            "  return cls(**config)\n",
            "/usr/local/lib/python3.6/dist-packages/keras/engine/base_layer.py:1179: UserWarning: Update your `BatchNormalization` call to the Keras 2 API: `BatchNormalization(gamma_regularizer=None, name=\"bn2a_branch2c\", epsilon=0.001, trainable=True, beta_regularizer=None, momentum=0.99, axis=3)`\n",
            "  return cls(**config)\n",
            "/usr/local/lib/python3.6/dist-packages/keras/engine/base_layer.py:1179: UserWarning: Update your `BatchNormalization` call to the Keras 2 API: `BatchNormalization(gamma_regularizer=None, name=\"bn2a_branch1\", epsilon=0.001, trainable=True, beta_regularizer=None, momentum=0.99, axis=3)`\n",
            "  return cls(**config)\n",
            "Traceback (most recent call last):\n",
            "  File \"/content/RotNet/correct_rotation.py\", line 76, in <module>\n",
            "    model_location = load_model(args.model, custom_objects={'angle_error': angle_error})\n",
            "  File \"/usr/local/lib/python3.6/dist-packages/keras/engine/saving.py\", line 492, in load_wrapper\n",
            "    return load_function(*args, **kwargs)\n",
            "  File \"/usr/local/lib/python3.6/dist-packages/keras/engine/saving.py\", line 584, in load_model\n",
            "    model = _deserialize_model(h5dict, custom_objects, compile)\n",
            "  File \"/usr/local/lib/python3.6/dist-packages/keras/engine/saving.py\", line 274, in _deserialize_model\n",
            "    model = model_from_config(model_config, custom_objects=custom_objects)\n",
            "  File \"/usr/local/lib/python3.6/dist-packages/keras/engine/saving.py\", line 627, in model_from_config\n",
            "    return deserialize(config, custom_objects=custom_objects)\n",
            "  File \"/usr/local/lib/python3.6/dist-packages/keras/layers/__init__.py\", line 168, in deserialize\n",
            "    printable_module_name='layer')\n",
            "  File \"/usr/local/lib/python3.6/dist-packages/keras/utils/generic_utils.py\", line 147, in deserialize_keras_object\n",
            "    list(custom_objects.items())))\n",
            "  File \"/usr/local/lib/python3.6/dist-packages/keras/engine/network.py\", line 1056, in from_config\n",
            "    process_layer(layer_data)\n",
            "  File \"/usr/local/lib/python3.6/dist-packages/keras/engine/network.py\", line 1042, in process_layer\n",
            "    custom_objects=custom_objects)\n",
            "  File \"/usr/local/lib/python3.6/dist-packages/keras/layers/__init__.py\", line 168, in deserialize\n",
            "    printable_module_name='layer')\n",
            "  File \"/usr/local/lib/python3.6/dist-packages/keras/utils/generic_utils.py\", line 140, in deserialize_keras_object\n",
            "    ': ' + class_name)\n",
            "ValueError: Unknown layer: Merge\n"
          ],
          "name": "stdout"
        }
      ]
    }
  ]
}