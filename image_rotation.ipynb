{
  "nbformat": 4,
  "nbformat_minor": 0,
  "metadata": {
    "colab": {
      "name": "image_rotation",
      "provenance": [],
      "collapsed_sections": [],
      "authorship_tag": "ABX9TyO1xo6okzFXHSfCeoEDewKK",
      "include_colab_link": true
    },
    "kernelspec": {
      "name": "python3",
      "display_name": "Python 3"
    }
  },
  "cells": [
    {
      "cell_type": "markdown",
      "metadata": {
        "id": "view-in-github",
        "colab_type": "text"
      },
      "source": [
        "<a href=\"https://colab.research.google.com/github/hbasafa/ImageRotation/blob/master/image_rotation.ipynb\" target=\"_parent\"><img src=\"https://colab.research.google.com/assets/colab-badge.svg\" alt=\"Open In Colab\"/></a>"
      ]
    },
    {
      "cell_type": "code",
      "metadata": {
        "id": "FN_vYG6mIgUR",
        "colab_type": "code",
        "colab": {
          "base_uri": "https://localhost:8080/",
          "height": 106
        },
        "outputId": "9605e777-7137-4b76-f287-a68f90bac00a"
      },
      "source": [
        "! git clone https://github.com/d4nst/RotNet.git"
      ],
      "execution_count": 2,
      "outputs": [
        {
          "output_type": "stream",
          "text": [
            "Cloning into 'RotNet'...\n",
            "remote: Enumerating objects: 154, done.\u001b[K\n",
            "Receiving objects:   0% (1/154)   \rReceiving objects:   1% (2/154)   \rReceiving objects:   2% (4/154)   \rReceiving objects:   3% (5/154)   \rReceiving objects:   4% (7/154)   \rReceiving objects:   5% (8/154)   \rReceiving objects:   6% (10/154)   \rReceiving objects:   7% (11/154)   \rReceiving objects:   8% (13/154)   \rReceiving objects:   9% (14/154)   \rReceiving objects:  10% (16/154)   \rReceiving objects:  11% (17/154)   \rReceiving objects:  12% (19/154)   \rReceiving objects:  13% (21/154)   \rReceiving objects:  14% (22/154)   \rReceiving objects:  15% (24/154)   \rReceiving objects:  16% (25/154)   \rReceiving objects:  17% (27/154)   \rReceiving objects:  18% (28/154)   \rReceiving objects:  19% (30/154)   \rReceiving objects:  20% (31/154)   \rReceiving objects:  21% (33/154)   \rReceiving objects:  22% (34/154)   \rReceiving objects:  23% (36/154)   \rReceiving objects:  24% (37/154)   \rReceiving objects:  25% (39/154)   \rReceiving objects:  26% (41/154)   \rReceiving objects:  27% (42/154)   \rReceiving objects:  28% (44/154)   \rReceiving objects:  29% (45/154)   \rReceiving objects:  30% (47/154)   \rReceiving objects:  31% (48/154)   \rReceiving objects:  32% (50/154)   \rReceiving objects:  33% (51/154)   \rReceiving objects:  34% (53/154)   \rReceiving objects:  35% (54/154)   \rReceiving objects:  36% (56/154)   \rReceiving objects:  37% (57/154)   \rReceiving objects:  38% (59/154)   \rReceiving objects:  39% (61/154)   \rReceiving objects:  40% (62/154)   \rReceiving objects:  41% (64/154)   \rReceiving objects:  42% (65/154)   \rReceiving objects:  43% (67/154)   \rReceiving objects:  44% (68/154)   \rReceiving objects:  45% (70/154)   \rReceiving objects:  46% (71/154)   \rReceiving objects:  47% (73/154)   \rReceiving objects:  48% (74/154)   \rReceiving objects:  49% (76/154)   \rReceiving objects:  50% (77/154)   \rReceiving objects:  51% (79/154)   \rReceiving objects:  52% (81/154)   \rReceiving objects:  53% (82/154)   \rReceiving objects:  54% (84/154)   \rReceiving objects:  55% (85/154)   \rReceiving objects:  56% (87/154)   \rReceiving objects:  57% (88/154)   \rReceiving objects:  58% (90/154)   \rReceiving objects:  59% (91/154)   \rReceiving objects:  60% (93/154)   \rReceiving objects:  61% (94/154)   \rReceiving objects:  62% (96/154)   \rReceiving objects:  63% (98/154)   \rReceiving objects:  64% (99/154)   \rReceiving objects:  65% (101/154)   \rReceiving objects:  66% (102/154)   \rReceiving objects:  67% (104/154)   \rReceiving objects:  68% (105/154)   \rReceiving objects:  69% (107/154)   \rReceiving objects:  70% (108/154)   \rReceiving objects:  71% (110/154)   \rReceiving objects:  72% (111/154)   \rReceiving objects:  73% (113/154)   \rReceiving objects:  74% (114/154)   \rReceiving objects:  75% (116/154)   \rReceiving objects:  76% (118/154)   \rReceiving objects:  77% (119/154)   \rReceiving objects:  78% (121/154)   \rReceiving objects:  79% (122/154)   \rReceiving objects:  80% (124/154)   \rReceiving objects:  81% (125/154)   \rReceiving objects:  82% (127/154)   \rReceiving objects:  83% (128/154)   \rReceiving objects:  84% (130/154)   \rReceiving objects:  85% (131/154)   \rReceiving objects:  86% (133/154)   \rReceiving objects:  87% (134/154)   \rReceiving objects:  88% (136/154)   \rReceiving objects:  89% (138/154)   \rReceiving objects:  90% (139/154)   \rReceiving objects:  91% (141/154)   \rReceiving objects:  92% (142/154)   \rReceiving objects:  93% (144/154)   \rReceiving objects:  94% (145/154)   \rReceiving objects:  95% (147/154)   \rReceiving objects:  96% (148/154)   \rReceiving objects:  97% (150/154)   \rReceiving objects:  98% (151/154)   \rReceiving objects:  99% (153/154)   \rremote: Total 154 (delta 0), reused 0 (delta 0), pack-reused 154\u001b[K\n",
            "Receiving objects: 100% (154/154)   \rReceiving objects: 100% (154/154), 10.35 MiB | 35.80 MiB/s, done.\n",
            "Resolving deltas:   0% (0/80)   \rResolving deltas:  11% (9/80)   \rResolving deltas:  16% (13/80)   \rResolving deltas:  17% (14/80)   \rResolving deltas:  31% (25/80)   \rResolving deltas:  38% (31/80)   \rResolving deltas:  40% (32/80)   \rResolving deltas:  43% (35/80)   \rResolving deltas:  46% (37/80)   \rResolving deltas:  56% (45/80)   \rResolving deltas:  60% (48/80)   \rResolving deltas:  62% (50/80)   \rResolving deltas:  72% (58/80)   \rResolving deltas:  80% (64/80)   \rResolving deltas:  83% (67/80)   \rResolving deltas:  98% (79/80)   \rResolving deltas: 100% (80/80)   \rResolving deltas: 100% (80/80), done.\n"
          ],
          "name": "stdout"
        }
      ]
    },
    {
      "cell_type": "code",
      "metadata": {
        "id": "lrVkP7obJcPV",
        "colab_type": "code",
        "colab": {
          "base_uri": "https://localhost:8080/",
          "height": 35
        },
        "outputId": "c7103b45-4dcb-459e-8ad7-b1a4009c6580"
      },
      "source": [
        ""
      ],
      "execution_count": 6,
      "outputs": [
        {
          "output_type": "stream",
          "text": [
            "RotNet\tsample_data\n"
          ],
          "name": "stdout"
        }
      ]
    }
  ]
}